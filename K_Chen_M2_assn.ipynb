{
 "cells": [
  {
   "cell_type": "markdown",
   "metadata": {},
   "source": [
    "# DAV 6150 Module 2 Assignment - Cross Validation"
   ]
  },
  {
   "cell_type": "markdown",
   "metadata": {},
   "source": [
    "## 1. Introduction\n",
    "According to the data set information, the Cycle Power Plant Data Set includes five columns. Four columns are hourly average ambient variables, which are Temperature (T), Ambient Pressure (AP), Relative Humidity (RH) and Exhaust Vacuum (V). The other column is the net hourly electrical energy output (EP) of the plant. **In this assignment, the four ambient variables will be taken as candidate explanatory variables to create a linear regression model for predicting the response variable EP.** <br>\n",
    "<br>\n",
    "The planned steps can be summarized as following:\n",
    "- a. Import the data set and apply exploratory data analysis to know details on each variable, including basic descriptive statistic values and data distribution pattern. Also, explore the correlation of EP and other four variables to determine the variables which can be recruited for the prediction model. \n",
    "- b. Label the explanatory variables and response variable. \n",
    "- c. Select combinations of explanatory variables for fitting different linear regression models.\n",
    "- d. Divide the data into K=10 groups for cross-validation.\n",
    "- e. Evaluate the accuracy of models.\n",
    "\n",
    "Now, let's import the data first."
   ]
  },
  {
   "cell_type": "code",
   "execution_count": 121,
   "metadata": {},
   "outputs": [
    {
     "data": {
      "text/html": [
       "<div>\n",
       "<style scoped>\n",
       "    .dataframe tbody tr th:only-of-type {\n",
       "        vertical-align: middle;\n",
       "    }\n",
       "\n",
       "    .dataframe tbody tr th {\n",
       "        vertical-align: top;\n",
       "    }\n",
       "\n",
       "    .dataframe thead th {\n",
       "        text-align: right;\n",
       "    }\n",
       "</style>\n",
       "<table border=\"1\" class=\"dataframe\">\n",
       "  <thead>\n",
       "    <tr style=\"text-align: right;\">\n",
       "      <th></th>\n",
       "      <th>T</th>\n",
       "      <th>V</th>\n",
       "      <th>AP</th>\n",
       "      <th>RH</th>\n",
       "      <th>EP</th>\n",
       "    </tr>\n",
       "  </thead>\n",
       "  <tbody>\n",
       "    <tr>\n",
       "      <th>0</th>\n",
       "      <td>14.96</td>\n",
       "      <td>41.76</td>\n",
       "      <td>1024.07</td>\n",
       "      <td>73.17</td>\n",
       "      <td>463.26</td>\n",
       "    </tr>\n",
       "    <tr>\n",
       "      <th>1</th>\n",
       "      <td>25.18</td>\n",
       "      <td>62.96</td>\n",
       "      <td>1020.04</td>\n",
       "      <td>59.08</td>\n",
       "      <td>444.37</td>\n",
       "    </tr>\n",
       "    <tr>\n",
       "      <th>2</th>\n",
       "      <td>5.11</td>\n",
       "      <td>39.40</td>\n",
       "      <td>1012.16</td>\n",
       "      <td>92.14</td>\n",
       "      <td>488.56</td>\n",
       "    </tr>\n",
       "    <tr>\n",
       "      <th>3</th>\n",
       "      <td>20.86</td>\n",
       "      <td>57.32</td>\n",
       "      <td>1010.24</td>\n",
       "      <td>76.64</td>\n",
       "      <td>446.48</td>\n",
       "    </tr>\n",
       "    <tr>\n",
       "      <th>4</th>\n",
       "      <td>10.82</td>\n",
       "      <td>37.50</td>\n",
       "      <td>1009.23</td>\n",
       "      <td>96.62</td>\n",
       "      <td>473.90</td>\n",
       "    </tr>\n",
       "  </tbody>\n",
       "</table>\n",
       "</div>"
      ],
      "text/plain": [
       "       T      V       AP     RH      EP\n",
       "0  14.96  41.76  1024.07  73.17  463.26\n",
       "1  25.18  62.96  1020.04  59.08  444.37\n",
       "2   5.11  39.40  1012.16  92.14  488.56\n",
       "3  20.86  57.32  1010.24  76.64  446.48\n",
       "4  10.82  37.50  1009.23  96.62  473.90"
      ]
     },
     "execution_count": 121,
     "metadata": {},
     "output_type": "execute_result"
    }
   ],
   "source": [
    "# import pandas libraries for dataframe loading\n",
    "import pandas as pd\n",
    "# read data into dataframe\n",
    "df=pd.read_csv(r'https://raw.githubusercontent.com/chenkecoco1/DAV-6150/main/M2_Data.csv')\n",
    "# check loading\n",
    "df.head()"
   ]
  },
  {
   "cell_type": "markdown",
   "metadata": {},
   "source": [
    "As the short form of column names are not intuitive, they could be substitute by real names."
   ]
  },
  {
   "cell_type": "code",
   "execution_count": 122,
   "metadata": {},
   "outputs": [
    {
     "data": {
      "text/html": [
       "<div>\n",
       "<style scoped>\n",
       "    .dataframe tbody tr th:only-of-type {\n",
       "        vertical-align: middle;\n",
       "    }\n",
       "\n",
       "    .dataframe tbody tr th {\n",
       "        vertical-align: top;\n",
       "    }\n",
       "\n",
       "    .dataframe thead th {\n",
       "        text-align: right;\n",
       "    }\n",
       "</style>\n",
       "<table border=\"1\" class=\"dataframe\">\n",
       "  <thead>\n",
       "    <tr style=\"text-align: right;\">\n",
       "      <th></th>\n",
       "      <th>Temperature</th>\n",
       "      <th>Exhaust Vacuum</th>\n",
       "      <th>Ambient Pressure</th>\n",
       "      <th>Relative Humidity</th>\n",
       "      <th>EP</th>\n",
       "    </tr>\n",
       "  </thead>\n",
       "  <tbody>\n",
       "    <tr>\n",
       "      <th>0</th>\n",
       "      <td>14.96</td>\n",
       "      <td>41.76</td>\n",
       "      <td>1024.07</td>\n",
       "      <td>73.17</td>\n",
       "      <td>463.26</td>\n",
       "    </tr>\n",
       "    <tr>\n",
       "      <th>1</th>\n",
       "      <td>25.18</td>\n",
       "      <td>62.96</td>\n",
       "      <td>1020.04</td>\n",
       "      <td>59.08</td>\n",
       "      <td>444.37</td>\n",
       "    </tr>\n",
       "    <tr>\n",
       "      <th>2</th>\n",
       "      <td>5.11</td>\n",
       "      <td>39.40</td>\n",
       "      <td>1012.16</td>\n",
       "      <td>92.14</td>\n",
       "      <td>488.56</td>\n",
       "    </tr>\n",
       "    <tr>\n",
       "      <th>3</th>\n",
       "      <td>20.86</td>\n",
       "      <td>57.32</td>\n",
       "      <td>1010.24</td>\n",
       "      <td>76.64</td>\n",
       "      <td>446.48</td>\n",
       "    </tr>\n",
       "    <tr>\n",
       "      <th>4</th>\n",
       "      <td>10.82</td>\n",
       "      <td>37.50</td>\n",
       "      <td>1009.23</td>\n",
       "      <td>96.62</td>\n",
       "      <td>473.90</td>\n",
       "    </tr>\n",
       "  </tbody>\n",
       "</table>\n",
       "</div>"
      ],
      "text/plain": [
       "   Temperature  Exhaust Vacuum  Ambient Pressure  Relative Humidity      EP\n",
       "0        14.96           41.76           1024.07              73.17  463.26\n",
       "1        25.18           62.96           1020.04              59.08  444.37\n",
       "2         5.11           39.40           1012.16              92.14  488.56\n",
       "3        20.86           57.32           1010.24              76.64  446.48\n",
       "4        10.82           37.50           1009.23              96.62  473.90"
      ]
     },
     "execution_count": 122,
     "metadata": {},
     "output_type": "execute_result"
    }
   ],
   "source": [
    "# change column names based on data set information, keep 'EP'.\n",
    "df.columns = ['Temperature','Exhaust Vacuum','Ambient Pressure','Relative Humidity','EP']\n",
    "df.head()"
   ]
  },
  {
   "cell_type": "markdown",
   "metadata": {},
   "source": [
    "## 2. Exploratory Data Analysis"
   ]
  },
  {
   "cell_type": "code",
   "execution_count": 123,
   "metadata": {},
   "outputs": [
    {
     "name": "stdout",
     "output_type": "stream",
     "text": [
      "<class 'pandas.core.frame.DataFrame'>\n",
      "RangeIndex: 9568 entries, 0 to 9567\n",
      "Data columns (total 5 columns):\n",
      " #   Column             Non-Null Count  Dtype  \n",
      "---  ------             --------------  -----  \n",
      " 0   Temperature        9568 non-null   float64\n",
      " 1   Exhaust Vacuum     9568 non-null   float64\n",
      " 2   Ambient Pressure   9568 non-null   float64\n",
      " 3   Relative Humidity  9568 non-null   float64\n",
      " 4   EP                 9568 non-null   float64\n",
      "dtypes: float64(5)\n",
      "memory usage: 373.9 KB\n"
     ]
    }
   ],
   "source": [
    "# check line numbers and null values of data set\n",
    "df.info()"
   ]
  },
  {
   "cell_type": "markdown",
   "metadata": {},
   "source": [
    "There are no null values in the data set. Total 9568 rows of record with float type of data, which means all numerical."
   ]
  },
  {
   "cell_type": "code",
   "execution_count": 124,
   "metadata": {},
   "outputs": [
    {
     "data": {
      "text/html": [
       "<div>\n",
       "<style scoped>\n",
       "    .dataframe tbody tr th:only-of-type {\n",
       "        vertical-align: middle;\n",
       "    }\n",
       "\n",
       "    .dataframe tbody tr th {\n",
       "        vertical-align: top;\n",
       "    }\n",
       "\n",
       "    .dataframe thead th {\n",
       "        text-align: right;\n",
       "    }\n",
       "</style>\n",
       "<table border=\"1\" class=\"dataframe\">\n",
       "  <thead>\n",
       "    <tr style=\"text-align: right;\">\n",
       "      <th></th>\n",
       "      <th>Temperature</th>\n",
       "      <th>Exhaust Vacuum</th>\n",
       "      <th>Ambient Pressure</th>\n",
       "      <th>Relative Humidity</th>\n",
       "      <th>EP</th>\n",
       "    </tr>\n",
       "  </thead>\n",
       "  <tbody>\n",
       "    <tr>\n",
       "      <th>count</th>\n",
       "      <td>9568.000000</td>\n",
       "      <td>9568.000000</td>\n",
       "      <td>9568.000000</td>\n",
       "      <td>9568.000000</td>\n",
       "      <td>9568.000000</td>\n",
       "    </tr>\n",
       "    <tr>\n",
       "      <th>mean</th>\n",
       "      <td>19.651231</td>\n",
       "      <td>54.305804</td>\n",
       "      <td>1013.259078</td>\n",
       "      <td>73.308978</td>\n",
       "      <td>454.365009</td>\n",
       "    </tr>\n",
       "    <tr>\n",
       "      <th>std</th>\n",
       "      <td>7.452473</td>\n",
       "      <td>12.707893</td>\n",
       "      <td>5.938784</td>\n",
       "      <td>14.600269</td>\n",
       "      <td>17.066995</td>\n",
       "    </tr>\n",
       "    <tr>\n",
       "      <th>min</th>\n",
       "      <td>1.810000</td>\n",
       "      <td>25.360000</td>\n",
       "      <td>992.890000</td>\n",
       "      <td>25.560000</td>\n",
       "      <td>420.260000</td>\n",
       "    </tr>\n",
       "    <tr>\n",
       "      <th>25%</th>\n",
       "      <td>13.510000</td>\n",
       "      <td>41.740000</td>\n",
       "      <td>1009.100000</td>\n",
       "      <td>63.327500</td>\n",
       "      <td>439.750000</td>\n",
       "    </tr>\n",
       "    <tr>\n",
       "      <th>50%</th>\n",
       "      <td>20.345000</td>\n",
       "      <td>52.080000</td>\n",
       "      <td>1012.940000</td>\n",
       "      <td>74.975000</td>\n",
       "      <td>451.550000</td>\n",
       "    </tr>\n",
       "    <tr>\n",
       "      <th>75%</th>\n",
       "      <td>25.720000</td>\n",
       "      <td>66.540000</td>\n",
       "      <td>1017.260000</td>\n",
       "      <td>84.830000</td>\n",
       "      <td>468.430000</td>\n",
       "    </tr>\n",
       "    <tr>\n",
       "      <th>max</th>\n",
       "      <td>37.110000</td>\n",
       "      <td>81.560000</td>\n",
       "      <td>1033.300000</td>\n",
       "      <td>100.160000</td>\n",
       "      <td>495.760000</td>\n",
       "    </tr>\n",
       "  </tbody>\n",
       "</table>\n",
       "</div>"
      ],
      "text/plain": [
       "       Temperature  Exhaust Vacuum  Ambient Pressure  Relative Humidity  \\\n",
       "count  9568.000000     9568.000000       9568.000000        9568.000000   \n",
       "mean     19.651231       54.305804       1013.259078          73.308978   \n",
       "std       7.452473       12.707893          5.938784          14.600269   \n",
       "min       1.810000       25.360000        992.890000          25.560000   \n",
       "25%      13.510000       41.740000       1009.100000          63.327500   \n",
       "50%      20.345000       52.080000       1012.940000          74.975000   \n",
       "75%      25.720000       66.540000       1017.260000          84.830000   \n",
       "max      37.110000       81.560000       1033.300000         100.160000   \n",
       "\n",
       "                EP  \n",
       "count  9568.000000  \n",
       "mean    454.365009  \n",
       "std      17.066995  \n",
       "min     420.260000  \n",
       "25%     439.750000  \n",
       "50%     451.550000  \n",
       "75%     468.430000  \n",
       "max     495.760000  "
      ]
     },
     "execution_count": 124,
     "metadata": {},
     "output_type": "execute_result"
    }
   ],
   "source": [
    "# basic descriptive values of the dataset\n",
    "df.describe()"
   ]
  },
  {
   "cell_type": "markdown",
   "metadata": {},
   "source": [
    "For viewing the data in each column directly, the histograms and box plots will be created as below."
   ]
  },
  {
   "cell_type": "code",
   "execution_count": 125,
   "metadata": {},
   "outputs": [
    {
     "data": {
      "image/png": "[encoded data removed]",
      "text/plain": [
       "<Figure size 720x216 with 2 Axes>"
      ]
     },
     "metadata": {},
     "output_type": "display_data"
    },
    {
     "data": {
      "image/png": "[encoded data removed]",
      "text/plain": [
       "<Figure size 720x216 with 2 Axes>"
      ]
     },
     "metadata": {},
     "output_type": "display_data"
    },
    {
     "data": {
      "image/png": "[encoded data removed]",
      "text/plain": [
       "<Figure size 720x216 with 2 Axes>"
      ]
     },
     "metadata": {},
     "output_type": "display_data"
    },
    {
     "data": {
      "image/png": "[encoded data removed]",
      "text/plain": [
       "<Figure size 720x216 with 2 Axes>"
      ]
     },
     "metadata": {},
     "output_type": "display_data"
    },
    {
     "data": {
      "image/png": "[encoded data removed]",
      "text/plain": [
       "<Figure size 720x216 with 2 Axes>"
      ]
     },
     "metadata": {},
     "output_type": "display_data"
    }
   ],
   "source": [
    "# import pyplot for graph creating\n",
    "import matplotlib.pyplot as plt\n",
    "plt.style.use('ggplot')\n",
    "\n",
    "# for each column, create a histogram and boxplot side by side\n",
    "for i in range(0,5):\n",
    "    figure, axis = plt.subplots(1, 2,figsize=(10,3))\n",
    "    a=df.iloc[:,i]\n",
    "    axis[0].hist(a, bins=20)\n",
    "    axis[0].set_title(df.columns[i])\n",
    "    axis[1].boxplot(a)\n",
    "    axis[1].set_title(df.columns[i])\n",
    "    plt.show()"
   ]
  },
  {
   "cell_type": "markdown",
   "metadata": {},
   "source": [
    "For the candidate explanatory variables, Temperature and Exhaust Vacuum show bimodal distribution. For Temperature, the two high points appear at around 12 and 25 (°C). Two high points of Exhaust Vacuum are at around 40 and 70 (cm Hg). Both variables have no outliers. The two bimodal distribution patterns may be an indication that the two variables have some relation internally. Ambient pressure is nearly normal distributed with peak at around 1012 (milibar). Both tails of the distribution have many outliers. The Relative humidity shows left skewed distribution pattern. Extreme small values could be found based on the box plot. The response variable EP also shows bimodal distribution, peak points at 440 and 470 (MW). It raises the guessing that Temperature and Exhaust Vacuum may have a stronger relation with EP."
   ]
  },
  {
   "cell_type": "markdown",
   "metadata": {},
   "source": [
    "For picking out the variables which may contribute the prediction model, the correlation of the four candidate explanatory variables and the response variable matrix will be created below. "
   ]
  },
  {
   "cell_type": "code",
   "execution_count": 126,
   "metadata": {},
   "outputs": [
    {
     "name": "stdout",
     "output_type": "stream",
     "text": [
      "                   Temperature  Exhaust Vacuum  Ambient Pressure  \\\n",
      "Temperature           1.000000        0.844107         -0.507549   \n",
      "Exhaust Vacuum        0.844107        1.000000         -0.413502   \n",
      "Ambient Pressure     -0.507549       -0.413502          1.000000   \n",
      "Relative Humidity    -0.542535       -0.312187          0.099574   \n",
      "EP                   -0.948128       -0.869780          0.518429   \n",
      "\n",
      "                   Relative Humidity        EP  \n",
      "Temperature                -0.542535 -0.948128  \n",
      "Exhaust Vacuum             -0.312187 -0.869780  \n",
      "Ambient Pressure            0.099574  0.518429  \n",
      "Relative Humidity           1.000000  0.389794  \n",
      "EP                          0.389794  1.000000  \n"
     ]
    },
    {
     "data": {
      "text/plain": [
       "<AxesSubplot:>"
      ]
     },
     "execution_count": 126,
     "metadata": {},
     "output_type": "execute_result"
    },
    {
     "data": {
      "image/png": "[encoded data removed]",
      "text/plain": [
       "<Figure size 432x288 with 2 Axes>"
      ]
     },
     "metadata": {},
     "output_type": "display_data"
    }
   ],
   "source": [
    "print(df.corr())\n",
    "# for importing \n",
    "import seaborn as sns\n",
    "sns.heatmap(df.corr(),cmap=\"tab20\")"
   ]
  },
  {
   "cell_type": "markdown",
   "metadata": {},
   "source": [
    "According to the matrix, Temperature and Exhaust Vacuum have very strong negative correlation with EP, which absolute value higher than 0.8. The strong correlation might indicate that these two variables are more “predictive”. Ambient Pressure has moderate positive correlation with EP, which means it is \"somewhat predictive\". Relative Humidity has a week positive correlation with EP as the correlation coefficient is less than 0.4. It means the change of relative humidity does not affect too much on the EP."
   ]
  },
  {
   "cell_type": "markdown",
   "metadata": {},
   "source": [
    "## 3. Regression Model Construction & Evaluation\n",
    "Based on the degree of \"predictive\", the final three explanatory variables candidates are Temperature, Exhaust Vacuum and Ambient Pressure. But here is another problem that the correlation coefficient is very high between Temperature and Exhaust Vacuum, which is over 0.8. In this case, they cannot be considered as truly independent. The strong correlation between two variables may make it hard for interpretation of model and creates overfitting problem. For seeing if the multicollinearity of the two variables will affect the prediction, three different linear regression models will be created:\n",
    "- 1. Involve Temperature, Exhaust Vacuum and Ambient Pressure as explanatory variables.\n",
    "- 2. Involve Temperature and Ambient Pressure as explanatory variables, kicking out Exhaust Vacuum.\n",
    "- 3. Involve Exhaust Vacuum and Ambient Pressure as explanatory variables, kicking out Temperature.\n",
    "\n",
    "Split the data set into training set and test set. The training set will be divided into 10 folds for K-fold cross-validation based on generalized experimentation suggestion. Each cross-validation score will be stored and calculated the mean value for model evaluation. <br>\n",
    "<br>\n",
    "#### Model 1\n",
    "The first model will include three explanatory variables. (Temperature, Exhaust Vacuum and Ambient Pressure).\n",
    "Firstly, split the dataset into explanatory variables group X and response variable y. Then apply train_test_split() function to split X and y into training and testing sets. The set held out for testing is 30% of the whole data set. "
   ]
  },
  {
   "cell_type": "code",
   "execution_count": 127,
   "metadata": {},
   "outputs": [
    {
     "data": {
      "text/plain": [
       "(      Temperature  Exhaust Vacuum  Ambient Pressure\n",
       " 8154        17.17           63.09           1020.54\n",
       " 3578        31.95           70.80           1008.38\n",
       " 9361        27.20           78.05           1010.15\n",
       " 264         15.12           52.05           1014.63\n",
       " 1561        29.52           64.79           1017.53,\n",
       "           EP\n",
       " 8154  446.75\n",
       " 3578  432.79\n",
       " 9361  430.55\n",
       " 264   464.78\n",
       " 1561  439.60)"
      ]
     },
     "execution_count": 127,
     "metadata": {},
     "output_type": "execute_result"
    }
   ],
   "source": [
    "# import the train_test_split function\n",
    "from sklearn.model_selection import train_test_split\n",
    "# import the LinearRegression function\n",
    "from sklearn.linear_model import LinearRegression\n",
    "# import the cross_val_score function\n",
    "from sklearn.model_selection import cross_val_score\n",
    "\n",
    "# define the involved predictors X\n",
    "X=df.iloc[:,[0,1,2]]\n",
    "# define the dependent variable y\n",
    "y=df[['EP']]\n",
    "# split the data into training and testing\n",
    "X_train, X_test, y_train, y_test = train_test_split(X, y, test_size=0.3)\n",
    "# sanity check\n",
    "X_train.head(), y_train.head()"
   ]
  },
  {
   "cell_type": "markdown",
   "metadata": {},
   "source": [
    "Following the concept of cross-validation, the training set will be divided into 10 folds for fitting the model. Each fold will have a chance to be the validation fold to assess the accuracy. Total 10 times. Then the final accuracy will be calculated as the mean value of each validation accuracy."
   ]
  },
  {
   "cell_type": "code",
   "execution_count": 134,
   "metadata": {},
   "outputs": [
    {
     "name": "stdout",
     "output_type": "stream",
     "text": [
      "[0.92003054 0.90990569 0.91246235 0.91897237 0.92660943 0.91496282\n",
      " 0.92672664 0.92366649 0.91112474 0.92828084]\n"
     ]
    }
   ],
   "source": [
    "# setting a linearregression model\n",
    "model_1 = LinearRegression()\n",
    "# fit the model with 10-fold cross validation and test the accruracy\n",
    "scores = cross_val_score(model_1, X_train, y_train, cv=10)\n",
    "# print out the accuracy metrics derived from the K-fold cross validation process\n",
    "print (scores)"
   ]
  },
  {
   "cell_type": "code",
   "execution_count": 129,
   "metadata": {},
   "outputs": [
    {
     "name": "stdout",
     "output_type": "stream",
     "text": [
      "The first model has 0.92 accuracy with a standard deviation of 0.01\n"
     ]
    }
   ],
   "source": [
    "import numpy as np\n",
    "# calculate the average accuracy across all 10 folds\n",
    "print(\"The first model has \"+ str(round(scores.mean(),2))+\" accuracy with a standard deviation of \"+str(round(scores.std(),2)))"
   ]
  },
  {
   "cell_type": "markdown",
   "metadata": {},
   "source": [
    "#### Model 2\n",
    "The second model will include two explanatory variables. (Temperature and Ambient Pressure). The procedure will be the same as the first model."
   ]
  },
  {
   "cell_type": "code",
   "execution_count": 135,
   "metadata": {},
   "outputs": [
    {
     "name": "stdout",
     "output_type": "stream",
     "text": [
      "[0.90031368 0.89638798 0.89193493 0.90440236 0.91413184 0.90347729\n",
      " 0.9087304  0.90889338 0.89002718 0.9083152 ]\n"
     ]
    }
   ],
   "source": [
    "# extract 2 variables from X_train for new model creating \n",
    "X_train_2 = X_train[['Temperature', 'Ambient Pressure']].copy()\n",
    "\n",
    "# setting a linearregression model_2\n",
    "model_2 = LinearRegression()\n",
    "# fit the model with 10-fold cross validation and test the accruracy\n",
    "scores_2 = cross_val_score(model_2, X_train_2, y_train, cv=10)\n",
    "\n",
    "# print out the accuracy metrics derived from the K-fold cross validation process\n",
    "print (scores_2)"
   ]
  },
  {
   "cell_type": "code",
   "execution_count": 136,
   "metadata": {},
   "outputs": [
    {
     "name": "stdout",
     "output_type": "stream",
     "text": [
      "The second model has 0.9 accuracy with a standard deviation of 0.01\n"
     ]
    }
   ],
   "source": [
    "# calculate the average accuracy across all 10 folds\n",
    "print(\"The second model has \"+ str(round(scores_2.mean(),2))+\" accuracy with a standard deviation of \"+str(round(scores_2.std(),2)))"
   ]
  },
  {
   "cell_type": "markdown",
   "metadata": {},
   "source": [
    "#### Model 3\n",
    "The third model will include two explanatory variables. (Exhaust Vacuum and Ambient Pressure). The procedure will be the same as the first and the second model."
   ]
  },
  {
   "cell_type": "code",
   "execution_count": 137,
   "metadata": {},
   "outputs": [
    {
     "name": "stdout",
     "output_type": "stream",
     "text": [
      "[0.79121971 0.78152944 0.78539264 0.78938193 0.77580959 0.78012637\n",
      " 0.79657789 0.77290541 0.78768876 0.79505212]\n"
     ]
    }
   ],
   "source": [
    "# extract 2 variables from X_train for new model creating \n",
    "X_train_3 = X_train[['Exhaust Vacuum','Ambient Pressure']].copy()\n",
    "\n",
    "# setting a linearregression model_3\n",
    "model_3 = LinearRegression()\n",
    "# fit the model with 10-fold cross validation and test the accruracy\n",
    "scores_3 = cross_val_score(model_3, X_train_3, y_train, cv=10)\n",
    "\n",
    "# print out the accuracy metrics derived from the K-fold cross validation process\n",
    "print (scores_3)"
   ]
  },
  {
   "cell_type": "code",
   "execution_count": 138,
   "metadata": {},
   "outputs": [
    {
     "name": "stdout",
     "output_type": "stream",
     "text": [
      "The third model has 0.79 accuracy with a standard deviation of 0.01\n"
     ]
    }
   ],
   "source": [
    "# calculate the average accuracy across all 10 folds\n",
    "print(\"The third model has \"+ str(round(scores_3.mean(),2))+\" accuracy with a standard deviation of \"+str(round(scores_3.std(),2)))"
   ]
  },
  {
   "cell_type": "markdown",
   "metadata": {},
   "source": [
    "As the accuracy results shows, the first and the second models both reached a 0.9 accuracy rate, which is obviously higher than the third model. The first model is slightly higher than the second model with one more variable Exhaust Vacuum included. However, the second model, without Exhaust Vacuum, has already reached a relatively high accuracy rate. It means the Exhaust Vacuum variable does not contribute too much on the prediction. Therefore, the most straight-forward method is to remove Exhaust Vacuum to avoid the potential multicollinearity problem, while the model still can keep a high cross validated accuracy. All in all, the second model is preferable."
   ]
  },
  {
   "cell_type": "markdown",
   "metadata": {},
   "source": [
    "## 4. Conclusions\n",
    "Applying Cross-validation, linear regression models can be created with different explanatory variables for predicting the net hourly electrical energy output (EP). With two variables, Temperature and Ambient Pressure, included, the model accuracy can reach 0.9."
   ]
  },
  {
   "cell_type": "markdown",
   "metadata": {},
   "source": [
    "### Reference\n",
    "https://towardsdatascience.com/multi-collinearity-in-regression-fe7a2c1467ea<br>\n",
    "https://towardsdatascience.com/finding-the-right-model-parameters-3670a1c086b3<br>\n",
    "https://scikit-learn.org/stable/modules/cross_validation.html<br>\n"
   ]
  },
  {
   "cell_type": "code",
   "execution_count": null,
   "metadata": {},
   "outputs": [],
   "source": []
  }
 ],
 "metadata": {
  "kernelspec": {
   "display_name": "Python 3",
   "language": "python",
   "name": "python3"
  },
  "language_info": {
   "codemirror_mode": {
    "name": "ipython",
    "version": 3
   },
   "file_extension": ".py",
   "mimetype": "text/x-python",
   "name": "python",
   "nbconvert_exporter": "python",
   "pygments_lexer": "ipython3",
   "version": "3.8.5"
  }
 },
 "nbformat": 4,
 "nbformat_minor": 4
}
